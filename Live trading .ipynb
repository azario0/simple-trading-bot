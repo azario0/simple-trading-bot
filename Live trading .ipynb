{
 "cells": [
  {
   "cell_type": "code",
   "execution_count": 1,
   "id": "cbc32fd7",
   "metadata": {},
   "outputs": [],
   "source": [
    "import time\n",
    "import MetaTrader5 as mt5\n",
    "import pandas as pd\n",
    "from random import seed\n",
    "from random import randint\n",
    "import random\n",
    "import datetime"
   ]
  },
  {
   "cell_type": "code",
   "execution_count": 2,
   "id": "d8240fbb",
   "metadata": {},
   "outputs": [
    {
     "data": {
      "text/plain": [
       "True"
      ]
     },
     "execution_count": 2,
     "metadata": {},
     "output_type": "execute_result"
    }
   ],
   "source": [
    "mt5.initialize()"
   ]
  },
  {
   "cell_type": "code",
   "execution_count": 3,
   "id": "25271100",
   "metadata": {},
   "outputs": [],
   "source": [
    "symbol = \"EURUSD\"\n",
    "def open_order(symbol,lot,buysell):\n",
    "    point = mt5.symbol_info(symbol).point\n",
    "    price = mt5.symbol_info_tick(symbol).ask\n",
    "    deviation = 20\n",
    "    if buysell=='buy':\n",
    "        request = {\n",
    "            \"action\": mt5.TRADE_ACTION_DEAL,\n",
    "            \"symbol\": symbol,\n",
    "            \"volume\": lot,\n",
    "            \"type\": mt5.ORDER_TYPE_BUY,\n",
    "            \"price\": price,\n",
    "            \"deviation\": deviation,\n",
    "            \"magic\": 234000,\n",
    "            \"comment\": \"python script open\",\n",
    "            \"type_time\": mt5.ORDER_TIME_GTC,\n",
    "            \"type_filling\": mt5.ORDER_FILLING_FOK,\n",
    "        }\n",
    "    elif buysell=='sell':\n",
    "        request = {\n",
    "            \"action\": mt5.TRADE_ACTION_DEAL,\n",
    "            \"symbol\": symbol,\n",
    "            \"volume\": lot,\n",
    "            \"type\": mt5.ORDER_TYPE_SELL,\n",
    "            \"price\": price,\n",
    "            \"deviation\": deviation,\n",
    "            \"magic\": 234000,\n",
    "            \"comment\": \"python script open\",\n",
    "            \"type_time\": mt5.ORDER_TIME_GTC,\n",
    "            \"type_filling\": mt5.ORDER_FILLING_FOK,\n",
    "        }\n",
    "    # envoie une demande de trading\n",
    "    result = mt5.order_send(request)\n",
    "    return result\n",
    "def close_position(position):\n",
    "\n",
    "    tick = mt5.symbol_info_tick(position.request.symbol)\n",
    "\n",
    "    request = {\n",
    "        \"action\": mt5.TRADE_ACTION_DEAL,\n",
    "        \"position\": position.order,\n",
    "        \"symbol\": position.request.symbol,\n",
    "        \"volume\": position.volume,\n",
    "        \"type\": mt5.ORDER_TYPE_BUY if position.request.type == 1 else mt5.ORDER_TYPE_SELL,\n",
    "        \"price\": tick.ask if position.request.type == 1 else tick.bid,  \n",
    "        \"deviation\": 20,\n",
    "        \"magic\": 100,\n",
    "        \"comment\": \"python script close\",\n",
    "        \"type_time\": mt5.ORDER_TIME_GTC,\n",
    "        \"type_filling\": mt5.ORDER_FILLING_FOK,\n",
    "    }\n",
    "\n",
    "    result = mt5.order_send(request)\n",
    "    return result\n"
   ]
  },
  {
   "cell_type": "code",
   "execution_count": 4,
   "id": "7a6c324c",
   "metadata": {},
   "outputs": [],
   "source": [
    "class Position :\n",
    "    def __init__(self,open_price,position,takeprofit,lot_size,rg,mark,stop):\n",
    "\n",
    "        self.lot_size=lot_size\n",
    "        self.position=position\n",
    "        self.stop=stop\n",
    "        self.takeprofit=takeprofit\n",
    "        self.rg=rg\n",
    "        self.mark=mark\n",
    "        self.shared=1\n",
    "        \n",
    "        \n",
    "        \n",
    "        if position=='buy':\n",
    "            self.mul=-1\n",
    "            self.order=open_order(\"EURUSD\",self.lot_size,\"buy\")\n",
    "            \n",
    "        if position =='sell':\n",
    "            self.mul=1\n",
    "            self.order=open_order(\"EURUSD\",self.lot_size,\"sell\")\n",
    "        self.pl=0.0\n",
    "        self.calculatedpl=0\n",
    "    def close_position(self):\n",
    "        close_position(self.order)\n",
    "\n"
   ]
  },
  {
   "cell_type": "code",
   "execution_count": 7,
   "id": "d5d91c93",
   "metadata": {},
   "outputs": [
    {
     "ename": "KeyboardInterrupt",
     "evalue": "",
     "output_type": "error",
     "traceback": [
      "\u001b[1;31m---------------------------------------------------------------------------\u001b[0m",
      "\u001b[1;31mKeyboardInterrupt\u001b[0m                         Traceback (most recent call last)",
      "Input \u001b[1;32mIn [7]\u001b[0m, in \u001b[0;36m<module>\u001b[1;34m\u001b[0m\n\u001b[0;32m     51\u001b[0m     open_positions[z]\u001b[38;5;241m=\u001b[39m[]\n\u001b[0;32m     52\u001b[0m     \u001b[38;5;28;01mbreak\u001b[39;00m\n\u001b[1;32m---> 53\u001b[0m \u001b[38;5;28;01melif\u001b[39;00m price\u001b[38;5;241m>\u001b[39m\u001b[38;5;241m=\u001b[39m\u001b[43mopen_positions\u001b[49m\u001b[43m[\u001b[49m\u001b[43mz\u001b[49m\u001b[43m]\u001b[49m\u001b[43m[\u001b[49m\u001b[43mj\u001b[49m\u001b[43m]\u001b[49m\u001b[38;5;241;43m.\u001b[39;49m\u001b[43mstop\u001b[49m :\n\u001b[0;32m     54\u001b[0m     open_positions[z][j]\u001b[38;5;241m.\u001b[39mmark\u001b[38;5;241m=\u001b[39m\u001b[38;5;241m2\u001b[39m\n\u001b[0;32m     55\u001b[0m     stop\u001b[38;5;241m=\u001b[39mprice\u001b[38;5;241m-\u001b[39m\u001b[38;5;241m0.0015\u001b[39m\n",
      "\u001b[1;31mKeyboardInterrupt\u001b[0m: "
     ]
    }
   ],
   "source": [
    "open_positions=[]\n",
    "\n",
    "lot_size=0.01\n",
    "\n",
    "for i in range(20):\n",
    "    open_positions.append([])\n",
    "while True :\n",
    "    now = datetime.datetime.now()\n",
    "    price=mt5.symbol_info_tick(\"EURUSD\").bid\n",
    "    for ps in range(20):\n",
    "        s=random.randint(0,1)\n",
    "        if open_positions[ps]==[] and (now.hour<=17) and (now.hour>=1):\n",
    "            if s==0:\n",
    "                takeprofit=price+0.00165\n",
    "                stop=price-0.0015\n",
    "                open_positions[ps].append(Position(price,\"buy\",takeprofit,lot_size,1,1,stop))\n",
    "            elif s==1:\n",
    "                takeprofit=price-0.00165\n",
    "                stop=price+0.0015\n",
    "                open_positions[ps].append(Position(price,\"sell\",takeprofit,lot_size,1,1,stop))\n",
    "    for z in range(len(open_positions)):\n",
    "        for j in range(len(open_positions[z])) :\n",
    "            if open_positions[z][j].position=='buy':\n",
    "                if open_positions[z][j].rg==1 and open_positions[z][j].mark==1 :\n",
    "                    if price>=open_positions[z][j].takeprofit:\n",
    "                        open_positions[z][j].close_position()\n",
    "                        open_positions[z]=[]\n",
    "                    elif price<=open_positions[z][j].stop :\n",
    "                        open_positions[z][j].mark=2\n",
    "                        stop=price+0.0015\n",
    "                        takeprofit=price-0.00165\n",
    "                        open_positions[z].append(Position(price,'sell',takeprofit,open_positions[z][j].lot_size*8,2,2,stop))\n",
    "                elif open_positions[z][j].rg==2 and open_positions[z][j].mark==2 :\n",
    "                    if price>=open_positions[z][j].takeprofit :\n",
    "                        for p1 in range(len(open_positions[z])):\n",
    "                            open_positions[z][p1].close_position()\n",
    "                        open_positions[z]=[]\n",
    "                        \n",
    "                    elif price<=open_positions[z][j].stop:\n",
    "                        for p1 in range(len(open_positions[z])):\n",
    "                            open_positions[z][p1].close_position()\n",
    "                        open_positions[z]=[]\n",
    "                        \n",
    "                \n",
    "                    ######################################################################################################\n",
    "            \n",
    "            elif open_positions[z][j].position=='sell':\n",
    "                if open_positions[z][j].rg==1 and open_positions[z][j].mark==1 :\n",
    "                    if price<=open_positions[z][j].takeprofit:\n",
    "                        open_positions[z][j].close_position()\n",
    "                        open_positions[z]=[]\n",
    "                        break\n",
    "                    elif price>=open_positions[z][j].stop :\n",
    "                        open_positions[z][j].mark=2\n",
    "                        stop=price-0.0015\n",
    "                        takeprofit=price+0.00165\n",
    "                        open_positions[z].append(Position(price,'buy',takeprofit,open_positions[z][j].lot_size*8,2,2,stop))\n",
    "                elif open_positions[z][j].rg==2 and open_positions[z][j].mark==2 :\n",
    "                    if price<=open_positions[z][j].takeprofit :\n",
    "                        for p1 in range(len(open_positions[z])):\n",
    "                            open_positions[z][p1].close_position()\n",
    "                        open_positions[z]=[]\n",
    "                        break\n",
    "                    elif price>=open_positions[z][j].stop:\n",
    "                        for p1 in range(len(open_positions[z])):\n",
    "                            open_positions[z][p1].close_position()\n",
    "                        open_positions[z]=[]"
   ]
  },
  {
   "cell_type": "code",
   "execution_count": 6,
   "id": "e54f48a7",
   "metadata": {},
   "outputs": [
    {
     "data": {
      "text/html": [
       "\n",
       "<style>\n",
       "    div#notebook-container    { width: 95%; }\n",
       "    div#menubar-container     { width: 65%; }\n",
       "    div#maintoolbar-container { width: 99%; }\n",
       "</style>\n"
      ],
      "text/plain": [
       "<IPython.core.display.HTML object>"
      ]
     },
     "metadata": {},
     "output_type": "display_data"
    }
   ],
   "source": [
    "from IPython.display import display, HTML\n",
    "\n",
    "display(HTML(data=\"\"\"\n",
    "<style>\n",
    "    div#notebook-container    { width: 95%; }\n",
    "    div#menubar-container     { width: 65%; }\n",
    "    div#maintoolbar-container { width: 99%; }\n",
    "</style>\n",
    "\"\"\"))"
   ]
  },
  {
   "cell_type": "code",
   "execution_count": 15,
   "id": "3b9db349",
   "metadata": {},
   "outputs": [
    {
     "name": "stdout",
     "output_type": "stream",
     "text": [
      "Tick(time=1642977147, bid=35149.5, ask=35163.02, last=0.0, volume=0, time_msc=1642977147321, flags=6, volume_real=0.0)\n"
     ]
    }
   ],
   "source": [
    "print(mt5.symbol_info_tick(\"BTCUSD\"))"
   ]
  },
  {
   "cell_type": "code",
   "execution_count": 26,
   "id": "83b40db6",
   "metadata": {},
   "outputs": [
    {
     "name": "stdout",
     "output_type": "stream",
     "text": [
      "OrderSendResult(retcode=10009, deal=3594717, order=5498254, volume=0.01, price=35187.55, bid=0.0, ask=0.0, comment='Request executed', request_id=1, retcode_external=0, request=TradeRequest(action=1, magic=234000, order=0, symbol='BTCUSD', volume=0.01, price=35185.45, stoplimit=0.0, sl=0.0, tp=0.0, deviation=20, type=0, type_filling=0, type_time=0, expiration=0, comment='python script open', position=0, position_by=0))\n"
     ]
    }
   ],
   "source": [
    "ss=open_order(\"BTCUSD\",0.01,\"buy\")\n",
    "print(ss)"
   ]
  },
  {
   "cell_type": "code",
   "execution_count": 27,
   "id": "fa0f3313",
   "metadata": {},
   "outputs": [
    {
     "name": "stdout",
     "output_type": "stream",
     "text": [
      "OrderSendResult(retcode=10009, deal=3594718, order=5498255, volume=0.01, price=35279.46, bid=0.0, ask=0.0, comment='Request executed', request_id=2, retcode_external=0, request=TradeRequest(action=1, magic=234000, order=0, symbol='BTCUSD', volume=0.01, price=35294.0, stoplimit=0.0, sl=0.0, tp=0.0, deviation=20, type=1, type_filling=0, type_time=0, expiration=0, comment='python script open', position=0, position_by=0))\n"
     ]
    }
   ],
   "source": [
    "ss=open_order(\"BTCUSD\",0.01,\"sell\")\n",
    "print(ss)"
   ]
  },
  {
   "cell_type": "code",
   "execution_count": 58,
   "id": "aa04fbf2",
   "metadata": {},
   "outputs": [
    {
     "name": "stdout",
     "output_type": "stream",
     "text": [
      "OrderSendResult(retcode=10009, deal=3594727, order=5498263, volume=0.01, price=35364.28, bid=0.0, ask=0.0, comment='Request executed', request_id=7, retcode_external=0, request=TradeRequest(action=1, magic=234000, order=0, symbol='BTCUSD', volume=0.01, price=35364.28, stoplimit=0.0, sl=0.0, tp=0.0, deviation=20, type=0, type_filling=0, type_time=0, expiration=0, comment='python script open', position=0, position_by=0))\n"
     ]
    }
   ],
   "source": [
    "ss=open_order(\"BTCUSD\",0.01,\"buy\")\n",
    "print(ss)"
   ]
  },
  {
   "cell_type": "code",
   "execution_count": 104,
   "id": "4f211085",
   "metadata": {},
   "outputs": [
    {
     "name": "stdout",
     "output_type": "stream",
     "text": [
      "OrderSendResult(retcode=10009, deal=3594793, order=5498398, volume=0.01, price=35479.63, bid=0.0, ask=0.0, comment='Request executed', request_id=19, retcode_external=0, request=TradeRequest(action=1, magic=234000, order=0, symbol='BTCUSD', volume=0.01, price=35493.18, stoplimit=0.0, sl=0.0, tp=0.0, deviation=20, type=1, type_filling=0, type_time=0, expiration=0, comment='python script open', position=0, position_by=0))\n"
     ]
    }
   ],
   "source": [
    "ss=open_order(\"BTCUSD\",0.01,\"sell\")\n",
    "print(ss)"
   ]
  },
  {
   "cell_type": "code",
   "execution_count": null,
   "id": "71a9d6b6",
   "metadata": {},
   "outputs": [],
   "source": []
  },
  {
   "cell_type": "code",
   "execution_count": 105,
   "id": "08d7baf5",
   "metadata": {},
   "outputs": [
    {
     "data": {
      "text/plain": [
       "OrderSendResult(retcode=10009, deal=3594794, order=5498399, volume=0.01, price=35491.93, bid=0.0, ask=0.0, comment='Request executed', request_id=20, retcode_external=0, request=TradeRequest(action=1, magic=100, order=0, symbol='BTCUSD', volume=0.01, price=35491.93, stoplimit=0.0, sl=0.0, tp=0.0, deviation=20, type=0, type_filling=0, type_time=0, expiration=0, comment='python script close', position=5498398, position_by=0))"
      ]
     },
     "execution_count": 105,
     "metadata": {},
     "output_type": "execute_result"
    }
   ],
   "source": [
    "close_position(ss)"
   ]
  },
  {
   "cell_type": "code",
   "execution_count": 141,
   "id": "9f56160a",
   "metadata": {},
   "outputs": [],
   "source": []
  },
  {
   "cell_type": "code",
   "execution_count": null,
   "id": "d534cd2d",
   "metadata": {},
   "outputs": [],
   "source": []
  }
 ],
 "metadata": {
  "kernelspec": {
   "display_name": "Python 3 (ipykernel)",
   "language": "python",
   "name": "python3"
  },
  "language_info": {
   "codemirror_mode": {
    "name": "ipython",
    "version": 3
   },
   "file_extension": ".py",
   "mimetype": "text/x-python",
   "name": "python",
   "nbconvert_exporter": "python",
   "pygments_lexer": "ipython3",
   "version": "3.8.10"
  }
 },
 "nbformat": 4,
 "nbformat_minor": 5
}
